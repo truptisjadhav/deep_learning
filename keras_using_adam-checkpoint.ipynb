{
 "cells": [
  {
   "cell_type": "code",
   "execution_count": null,
   "metadata": {},
   "outputs": [],
   "source": [
    "import numpy as np\n",
    "import pandas as pd\n",
    "\n",
    "df=pd.read_csv(\"/data/train_final.csv\")\n",
    "out=df.describe()\n",
    "df=df.fillna(0)\n",
    "\n",
    "col=df.columns.tolist()\n",
    "col.remove(\"id\")\n",
    "col.remove(\"Target\")\n",
    "\n",
    "x=df.loc[0:,col].values\n",
    "y=df.loc[0:,\"Target\"].values\n",
    "\n",
    "from keras.utils import np_utils\n",
    "\n",
    "from sklearn.model_selection import train_test_split\n",
    "train_x, test_x, train_y, test_y=train_test_split(x,y,test_size=0.3,random_state=42)\n",
    "\n",
    "train_y_cat=np_utils.to_categorical(train_y,num_classes=None)\n",
    "test_y_cat =np_utils.to_categorical(test_y,num_classes=None)\n",
    "\n",
    "##scaling learned on train (i.e mean and sigma) and applied on train and test\n",
    "from sklearn import preprocessing\n",
    "scaler = preprocessing.StandardScaler().fit(train_x)\n",
    "sc_train_x = scaler.transform(train_x)\n",
    "sc_test_x = scaler.transform(test_x)\n",
    "\n",
    "import keras\n",
    "from keras.models import Sequential, Model\n",
    "from keras.layers import Dense\n",
    "import keras\n",
    "from keras.models import Sequential, Model \n",
    "from keras.layers import Dense,Input,Activation\n",
    "\n",
    "input_1 = Input(shape=sc_train_x.shape[1:]) \n",
    "x = Dense(10,activation=\"relu\")(input_1)\n",
    "x = Dense(10,activation=\"relu\")(x)\n",
    "x = Dense(2,activation=\"softmax\")(x)\n",
    "model = Model(input_1,x)\n",
    "model.compile(loss=\"categorical_crossentropy\",optimizer=\"adam\",metrics=['accuracy'])\n",
    "model.fit(sc_train_x,train_y_cat,epochs=10,batch_size=32,validation_data=(sc_test_x,test_y_cat))\n",
    "\n",
    "\n",
    "y_pred = model.predict(sc_test_x)\n",
    "y_pred_class = (y_pred >= 0.5)*1\n",
    "from sklearn.metrics import confusion_matrix\n",
    "confusion_matrix(test_y, y_pred_class[0:,1:])\n"
   ]
  }
 ],
 "metadata": {
  "kernelspec": {
   "display_name": "Python 3",
   "language": "python",
   "name": "python3"
  },
  "language_info": {
   "codemirror_mode": {
    "name": "ipython",
    "version": 3
   },
   "file_extension": ".py",
   "mimetype": "text/x-python",
   "name": "python",
   "nbconvert_exporter": "python",
   "pygments_lexer": "ipython3",
   "version": "3.8.5"
  }
 },
 "nbformat": 4,
 "nbformat_minor": 4
}
